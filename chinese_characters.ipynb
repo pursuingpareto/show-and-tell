{
 "cells": [
  {
   "cell_type": "markdown",
   "id": "072e1f6a",
   "metadata": {},
   "source": [
    "# If computers were invented in China!\n",
    "Maybe they would have treated characters as pictures? You can do a lot with an 8x8 grid of dots. \n",
    "\n",
    "If you do it this way, you don't need fonts! And all the characters you create are guaranteed to just work on normal black and white grid-based monitors.\n",
    "\n",
    "You might want a more compact way to *store* your most commonly used characters so you don't need "
   ]
  },
  {
   "cell_type": "code",
   "execution_count": 135,
   "id": "82bb5ed5",
   "metadata": {},
   "outputs": [],
   "source": [
    "class AsciiGrid:\n",
    "    \"\"\"\n",
    "    takes a grid of bools (bits) and renders it w/ the T and F class constants.\n",
    "    \"\"\"\n",
    "    \n",
    "    T = \"●●\"\n",
    "    F = \"  \"\n",
    "    \n",
    "    def __init__(self, bit_grid):\n",
    "        self._bit_grid = [[bool(bit) for bit in bit_row] for bit_row in bit_grid]\n",
    "    \n",
    "    def __repr__(self):\n",
    "        s = \"\"\n",
    "        for row in self._bit_grid:\n",
    "            for bit in row:\n",
    "                # right-to-left!\n",
    "                s = self.T + s if bit else self.F + s\n",
    "            # bottom-to-top!\n",
    "            s = \"\\n\" + s\n",
    "        return s"
   ]
  },
  {
   "cell_type": "code",
   "execution_count": 136,
   "id": "0d0ea913",
   "metadata": {},
   "outputs": [],
   "source": [
    "class SquareEncoding:\n",
    "    \"\"\"\n",
    "    instances represent an \"encoding\" for square ascii art\n",
    "    \"\"\"\n",
    "    \n",
    "    def __init__(self, dimension: int):\n",
    "        self.dimension = dimension\n",
    "    \n",
    "    @property\n",
    "    def bits_per_char(self):\n",
    "        return self.dimension ** 2\n",
    "    \n",
    "    def character(self, bits):\n",
    "        assert len(bits) == self.bits_per_char\n",
    "        bit_grid = [[-1 for i in range(self.dimension)] for j in range(self.dimension)]\n",
    "        for k, bit in enumerate(bits):\n",
    "            i, j = divmod(k, self.dimension)\n",
    "            # left vs right and up vs down is hard\n",
    "            i = self.dimension - i - 1\n",
    "            j = self.dimension - j - 1\n",
    "            bit_grid[i][j] = bool(bit)\n",
    "        return AsciiGrid(bit_grid)\n",
    "    \n",
    "    def from_s(self, s):\n",
    "        return self.character(\n",
    "            [True if c != \" \" else False for c in \"\".join(s.strip('\\n').split('\\n'))]\n",
    "        )"
   ]
  },
  {
   "cell_type": "markdown",
   "id": "404ef512",
   "metadata": {},
   "source": [
    "![chinese character](./images/chinese_characters.jpeg)"
   ]
  },
  {
   "cell_type": "code",
   "execution_count": 137,
   "id": "2ed7ff59",
   "metadata": {},
   "outputs": [],
   "source": [
    "chinese = SquareEncoding(8)\n",
    "\n",
    "# yi is the word for \"one\"\n",
    "YI = chinese.from_s(\"\"\"\n",
    "        \n",
    "        \n",
    "        \n",
    "        \n",
    "        \n",
    "        \n",
    "XXXXXXXX\n",
    "        \n",
    "\"\"\")\n",
    "\n",
    "\n",
    "# two\n",
    "ER = chinese.from_s(\"\"\"\n",
    " XXXXXX \n",
    "        \n",
    "        \n",
    "        \n",
    "        \n",
    "        \n",
    "XXXXXXXX\n",
    "        \n",
    "\"\"\")\n",
    "\n",
    "\n",
    "# three\n",
    "SAN = chinese.from_s(\"\"\"\n",
    " XXXXXX \n",
    "        \n",
    "        \n",
    "  XXXX  \n",
    "        \n",
    "        \n",
    "XXXXXXXX\n",
    "        \n",
    "\"\"\")\n",
    "\n",
    "\n",
    "# four\n",
    "SI = chinese.from_s(\"\"\"\n",
    "XXXXXXXX\n",
    "X X X  X\n",
    "X X X  X\n",
    "XX  XX X\n",
    "X      X\n",
    "X      X\n",
    "X      X\n",
    "XXXXXXXX\n",
    "\"\"\")\n",
    "\n",
    "\n",
    "# five\n",
    "WU = chinese.from_s(\"\"\"\n",
    "        \n",
    " XXXXXX \n",
    "   X    \n",
    "   X    \n",
    " XXXXX  \n",
    "   X  X \n",
    "   X  X \n",
    "XXXXXXXX\n",
    "\"\"\")"
   ]
  },
  {
   "cell_type": "code",
   "execution_count": 138,
   "id": "89caacdd",
   "metadata": {},
   "outputs": [
    {
     "name": "stdout",
     "output_type": "stream",
     "text": [
      "\n",
      "                \n",
      "  ●●●●●●●●●●●●  \n",
      "      ●●        \n",
      "      ●●        \n",
      "  ●●●●●●●●●●    \n",
      "      ●●    ●●  \n",
      "      ●●    ●●  \n",
      "●●●●●●●●●●●●●●●●\n"
     ]
    }
   ],
   "source": [
    "print(WU)"
   ]
  }
 ],
 "metadata": {
  "kernelspec": {
   "display_name": "Python 3",
   "language": "python",
   "name": "python3"
  },
  "language_info": {
   "codemirror_mode": {
    "name": "ipython",
    "version": 3
   },
   "file_extension": ".py",
   "mimetype": "text/x-python",
   "name": "python",
   "nbconvert_exporter": "python",
   "pygments_lexer": "ipython3",
   "version": "3.9.4"
  }
 },
 "nbformat": 4,
 "nbformat_minor": 5
}
